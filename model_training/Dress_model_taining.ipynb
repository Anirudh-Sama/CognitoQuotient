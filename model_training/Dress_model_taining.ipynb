{
  "metadata": {
    "kernelspec": {
      "language": "python",
      "display_name": "Python 3",
      "name": "python3"
    },
    "language_info": {
      "name": "python",
      "version": "3.10.13",
      "mimetype": "text/x-python",
      "codemirror_mode": {
        "name": "ipython",
        "version": 3
      },
      "pygments_lexer": "ipython3",
      "nbconvert_exporter": "python",
      "file_extension": ".py"
    },
    "kaggle": {
      "accelerator": "gpu",
      "dataSources": [
        {
          "sourceId": 7690069,
          "sourceType": "datasetVersion",
          "datasetId": 4487680
        }
      ],
      "dockerImageVersionId": 30646,
      "isInternetEnabled": true,
      "language": "python",
      "sourceType": "notebook",
      "isGpuEnabled": true
    },
    "colab": {
      "name": "Dress_model_taining",
      "provenance": [],
      "include_colab_link": true
    }
  },
  "nbformat_minor": 0,
  "nbformat": 4,
  "cells": [
    {
      "cell_type": "markdown",
      "metadata": {
        "id": "view-in-github",
        "colab_type": "text"
      },
      "source": [
        "<a href=\"https://colab.research.google.com/github/ShlokArora2709/CogitoQuotient/blob/main/model_training/Dress_model_taining.ipynb\" target=\"_parent\"><img src=\"https://colab.research.google.com/assets/colab-badge.svg\" alt=\"Open In Colab\"/></a>"
      ]
    },
    {
      "source": [
        "\n",
        "# IMPORTANT: RUN THIS CELL IN ORDER TO IMPORT YOUR KAGGLE DATA SOURCES\n",
        "# TO THE CORRECT LOCATION (/kaggle/input) IN YOUR NOTEBOOK,\n",
        "# THEN FEEL FREE TO DELETE THIS CELL.\n",
        "# NOTE: THIS NOTEBOOK ENVIRONMENT DIFFERS FROM KAGGLE'S PYTHON\n",
        "# ENVIRONMENT SO THERE MAY BE MISSING LIBRARIES USED BY YOUR\n",
        "# NOTEBOOK.\n",
        "\n",
        "import os\n",
        "import sys\n",
        "from tempfile import NamedTemporaryFile\n",
        "from urllib.request import urlopen\n",
        "from urllib.parse import unquote, urlparse\n",
        "from urllib.error import HTTPError\n",
        "from zipfile import ZipFile\n",
        "import tarfile\n",
        "import shutil\n",
        "\n",
        "CHUNK_SIZE = 40960\n",
        "DATA_SOURCE_MAPPING = 'cloth-class-data:https%3A%2F%2Fstorage.googleapis.com%2Fkaggle-data-sets%2F4487680%2F7690069%2Fbundle%2Farchive.zip%3FX-Goog-Algorithm%3DGOOG4-RSA-SHA256%26X-Goog-Credential%3Dgcp-kaggle-com%2540kaggle-161607.iam.gserviceaccount.com%252F20240228%252Fauto%252Fstorage%252Fgoog4_request%26X-Goog-Date%3D20240228T061259Z%26X-Goog-Expires%3D259200%26X-Goog-SignedHeaders%3Dhost%26X-Goog-Signature%3D1f1ad02ae26a629b1c788393a70a3d04c27121be572a2536e57ede3241633c2e02df534985025b00819a73b4c881ea4a0ed74ea84102119b5b21810b09ee763e9fd391ec2bedc5af2af27ca2afd871184a05ab70d37bcaa7c2a4a544bfc47732de583c7b62f4ba9608c010961b8ad857abe30f5dcccd13e92a1c904a80950bd0de81654356dd23ae7e5992d25695692519e2a300ab58263786dc555f80c63a4be046a6003af2e83f5aada38e4115e0775f6a85f1776e67ef9eff05f8021e1a2ddf55ea8e96e648af12a8d45b3227c3bb734032b295fb239a800119e13a1cbd239e0c48f0064f76963d1b02533469c645d3626b11a69df8e7787dcce014774fe7'\n",
        "\n",
        "KAGGLE_INPUT_PATH='/kaggle/input'\n",
        "KAGGLE_WORKING_PATH='/kaggle/working'\n",
        "KAGGLE_SYMLINK='kaggle'\n",
        "\n",
        "!umount /kaggle/input/ 2> /dev/null\n",
        "shutil.rmtree('/kaggle/input', ignore_errors=True)\n",
        "os.makedirs(KAGGLE_INPUT_PATH, 0o777, exist_ok=True)\n",
        "os.makedirs(KAGGLE_WORKING_PATH, 0o777, exist_ok=True)\n",
        "\n",
        "try:\n",
        "  os.symlink(KAGGLE_INPUT_PATH, os.path.join(\"..\", 'input'), target_is_directory=True)\n",
        "except FileExistsError:\n",
        "  pass\n",
        "try:\n",
        "  os.symlink(KAGGLE_WORKING_PATH, os.path.join(\"..\", 'working'), target_is_directory=True)\n",
        "except FileExistsError:\n",
        "  pass\n",
        "\n",
        "for data_source_mapping in DATA_SOURCE_MAPPING.split(','):\n",
        "    directory, download_url_encoded = data_source_mapping.split(':')\n",
        "    download_url = unquote(download_url_encoded)\n",
        "    filename = urlparse(download_url).path\n",
        "    destination_path = os.path.join(KAGGLE_INPUT_PATH, directory)\n",
        "    try:\n",
        "        with urlopen(download_url) as fileres, NamedTemporaryFile() as tfile:\n",
        "            total_length = fileres.headers['content-length']\n",
        "            print(f'Downloading {directory}, {total_length} bytes compressed')\n",
        "            dl = 0\n",
        "            data = fileres.read(CHUNK_SIZE)\n",
        "            while len(data) > 0:\n",
        "                dl += len(data)\n",
        "                tfile.write(data)\n",
        "                done = int(50 * dl / int(total_length))\n",
        "                sys.stdout.write(f\"\\r[{'=' * done}{' ' * (50-done)}] {dl} bytes downloaded\")\n",
        "                sys.stdout.flush()\n",
        "                data = fileres.read(CHUNK_SIZE)\n",
        "            if filename.endswith('.zip'):\n",
        "              with ZipFile(tfile) as zfile:\n",
        "                zfile.extractall(destination_path)\n",
        "            else:\n",
        "              with tarfile.open(tfile.name) as tarfile:\n",
        "                tarfile.extractall(destination_path)\n",
        "            print(f'\\nDownloaded and uncompressed: {directory}')\n",
        "    except HTTPError as e:\n",
        "        print(f'Failed to load (likely expired) {download_url} to path {destination_path}')\n",
        "        continue\n",
        "    except OSError as e:\n",
        "        print(f'Failed to load {download_url} to path {destination_path}')\n",
        "        continue\n",
        "\n",
        "print('Data source import complete.')\n"
      ],
      "metadata": {
        "id": "L7aRcu9KV-HW"
      },
      "cell_type": "code",
      "outputs": [],
      "execution_count": null
    },
    {
      "cell_type": "code",
      "source": [
        "import numpy as np\n",
        "from keras.applications import VGG16,InceptionResNetV2\n",
        "from keras.models import Model\n",
        "from keras.layers import LSTM, Dense, Dropout, Flatten\n",
        "from sklearn.ensemble import RandomForestClassifier\n",
        "from sklearn.metrics import accuracy_score\n",
        "from sklearn.model_selection import train_test_split\n",
        "from xgboost import XGBClassifier\n",
        "from lightgbm import LGBMClassifier\n",
        "import matplotlib.pyplot as plt\n",
        "\n",
        "import os, random, pathlib, warnings, itertools, math\n",
        "warnings.filterwarnings(\"ignore\")\n",
        "\n",
        "import tensorflow as tf\n",
        "from tensorflow import keras\n",
        "import tensorflow.keras.backend as K\n",
        "\n",
        "from keras import regularizers\n",
        "from tensorflow.keras import models,Sequential,layers\n",
        "from tensorflow.keras.models import Model\n",
        "from tensorflow.keras.models import load_model\n",
        "from tensorflow.keras.preprocessing import image\n",
        "from tensorflow.keras.applications import ResNet50\n",
        "from tensorflow.keras.applications.inception_v3 import InceptionV3,preprocess_input\n",
        "from tensorflow.keras.layers import Dense, Flatten, GlobalAveragePooling2D, Dense, Dropout,LeakyReLU\n",
        "from tensorflow.keras.optimizers import Adam\n",
        "from keras.applications.vgg16 import VGG16\n",
        "import cv2"
      ],
      "metadata": {
        "_uuid": "8f2839f25d086af736a60e9eeb907d3b93b6e0e5",
        "_cell_guid": "b1076dfc-b9ad-4769-8c92-a6c4dae69d19",
        "execution": {
          "iopub.status.busy": "2024-02-24T07:20:31.728197Z",
          "iopub.execute_input": "2024-02-24T07:20:31.728507Z",
          "iopub.status.idle": "2024-02-24T07:20:48.367803Z",
          "shell.execute_reply.started": "2024-02-24T07:20:31.728482Z",
          "shell.execute_reply": "2024-02-24T07:20:48.366913Z"
        },
        "trusted": true,
        "id": "g7OOzosBV-HZ"
      },
      "execution_count": null,
      "outputs": []
    },
    {
      "cell_type": "code",
      "source": [
        "IMAGE_SIZE=[256,256]\n",
        "train_datagen = image.ImageDataGenerator(rescale=1./255,\n",
        "    shear_range=0.2,\n",
        "    zoom_range=0.2,\n",
        "    horizontal_flip=True,\n",
        "    rotation_range=40,\n",
        "    brightness_range=[0.8, 1.2],\n",
        "    fill_mode='nearest')\n",
        "\n",
        "test_datagen = image.ImageDataGenerator(rescale = 1./255)\n",
        "\n",
        "training_set = train_datagen.flow_from_directory(\n",
        "    '/kaggle/input/cloth-class-data/data_cloth/train',\n",
        "    target_size = IMAGE_SIZE,\n",
        "    batch_size = 64,\n",
        "    class_mode = 'categorical')\n",
        "\n",
        "test_set = test_datagen.flow_from_directory(\n",
        "    '/kaggle/input/cloth-class-data/data_cloth/test',\n",
        "    target_size = IMAGE_SIZE,\n",
        "    batch_size = 64,\n",
        "    class_mode = 'categorical')\n"
      ],
      "metadata": {
        "execution": {
          "iopub.status.busy": "2024-02-24T07:31:04.680089Z",
          "iopub.execute_input": "2024-02-24T07:31:04.68046Z",
          "iopub.status.idle": "2024-02-24T07:31:05.021068Z",
          "shell.execute_reply.started": "2024-02-24T07:31:04.680432Z",
          "shell.execute_reply": "2024-02-24T07:31:05.020145Z"
        },
        "trusted": true,
        "id": "zNJRh5ExV-Ha"
      },
      "execution_count": null,
      "outputs": []
    },
    {
      "cell_type": "code",
      "source": [
        "test_set.class_indices"
      ],
      "metadata": {
        "execution": {
          "iopub.status.busy": "2024-02-24T07:31:07.655694Z",
          "iopub.execute_input": "2024-02-24T07:31:07.656345Z",
          "iopub.status.idle": "2024-02-24T07:31:07.662126Z",
          "shell.execute_reply.started": "2024-02-24T07:31:07.656317Z",
          "shell.execute_reply": "2024-02-24T07:31:07.661216Z"
        },
        "trusted": true,
        "id": "2ibqee08V-Ha"
      },
      "execution_count": null,
      "outputs": []
    },
    {
      "cell_type": "code",
      "source": [
        "training_set.class_indices"
      ],
      "metadata": {
        "execution": {
          "iopub.status.busy": "2024-02-24T07:31:11.493735Z",
          "iopub.execute_input": "2024-02-24T07:31:11.494098Z",
          "iopub.status.idle": "2024-02-24T07:31:11.500125Z",
          "shell.execute_reply.started": "2024-02-24T07:31:11.494069Z",
          "shell.execute_reply": "2024-02-24T07:31:11.499285Z"
        },
        "trusted": true,
        "id": "qoAf69-6V-Hb"
      },
      "execution_count": null,
      "outputs": []
    },
    {
      "cell_type": "code",
      "source": [
        "base= InceptionResNetV2(weights='imagenet', include_top=False)\n",
        "\n",
        "for layer in base.layers:\n",
        "    layer.trainable = True\n",
        "    if isinstance(layer, tf.keras.layers.Conv2D):\n",
        "        layer.kernel_regularizer = kernel_regularizer=regularizers.L2(0.005)\n",
        "\n",
        "# Find the index of the layer where 'mixed9' is present\n",
        "block8_1_mixed = base.layers.index(next(layer for layer in base.layers if layer.name == 'block8_1_mixed'))\n",
        "\n",
        "# Set trainable to False for layers before 'mixed9'\n",
        "for layer in base.layers[:block8_1_mixed]:\n",
        "    layer.trainable = False\n",
        "\n",
        "for layer in base.layers:\n",
        "    print(layer.name, layer.trainable)"
      ],
      "metadata": {
        "execution": {
          "iopub.status.busy": "2024-02-24T07:31:17.852604Z",
          "iopub.execute_input": "2024-02-24T07:31:17.853303Z",
          "iopub.status.idle": "2024-02-24T07:31:35.088038Z",
          "shell.execute_reply.started": "2024-02-24T07:31:17.853272Z",
          "shell.execute_reply": "2024-02-24T07:31:35.087098Z"
        },
        "collapsed": true,
        "jupyter": {
          "outputs_hidden": true
        },
        "trusted": true,
        "id": "A6F893ZnV-Hb"
      },
      "execution_count": null,
      "outputs": []
    },
    {
      "cell_type": "code",
      "source": [
        "model = Sequential()\n",
        "model.add(base)\n",
        "model.add(GlobalAveragePooling2D())\n",
        "model.add(Dropout(0.5))\n",
        "model.add(Dense(1024,activation='relu'))\n",
        "model.add(Dropout(0.5))\n",
        "model.add(Dense(256,activation='relu'))\n",
        "model.add(Dropout(0.5))\n",
        "model.add(Dense(6,activation='softmax'))\n",
        "\n",
        "model.compile(\n",
        "  loss='categorical_crossentropy',\n",
        "  optimizer='adam',\n",
        "  metrics=['accuracy']\n",
        ")\n",
        "model.summary()"
      ],
      "metadata": {
        "execution": {
          "iopub.status.busy": "2024-02-24T07:34:13.072485Z",
          "iopub.execute_input": "2024-02-24T07:34:13.07319Z",
          "iopub.status.idle": "2024-02-24T07:34:15.406016Z",
          "shell.execute_reply.started": "2024-02-24T07:34:13.073157Z",
          "shell.execute_reply": "2024-02-24T07:34:15.405102Z"
        },
        "trusted": true,
        "id": "kKNv-kgFV-Hb"
      },
      "execution_count": null,
      "outputs": []
    },
    {
      "cell_type": "code",
      "source": [
        "his = model.fit_generator(\n",
        "  training_set,\n",
        "  validation_data=test_set,\n",
        "  epochs=10)"
      ],
      "metadata": {
        "execution": {
          "iopub.status.busy": "2024-02-24T07:34:42.575323Z",
          "iopub.execute_input": "2024-02-24T07:34:42.575669Z",
          "iopub.status.idle": "2024-02-24T07:48:30.190497Z",
          "shell.execute_reply.started": "2024-02-24T07:34:42.575644Z",
          "shell.execute_reply": "2024-02-24T07:48:30.189703Z"
        },
        "trusted": true,
        "id": "M71i5CUCV-Hc"
      },
      "execution_count": null,
      "outputs": []
    },
    {
      "cell_type": "code",
      "source": [
        "pred=model.predict_generator(test_set)\n",
        "y_pred = np.argmax(pred, axis=1)\n",
        "y_true = test_set.classes"
      ],
      "metadata": {
        "execution": {
          "iopub.status.busy": "2024-02-24T07:48:41.263132Z",
          "iopub.execute_input": "2024-02-24T07:48:41.263507Z",
          "iopub.status.idle": "2024-02-24T07:48:56.858033Z",
          "shell.execute_reply.started": "2024-02-24T07:48:41.263479Z",
          "shell.execute_reply": "2024-02-24T07:48:56.856905Z"
        },
        "trusted": true,
        "id": "q47YOu30V-Hc"
      },
      "execution_count": null,
      "outputs": []
    },
    {
      "cell_type": "code",
      "source": [
        "from sklearn.metrics import confusion_matrix\n",
        "import seaborn as sns\n",
        "\n",
        "conf_matrix = confusion_matrix(y_true, y_pred)\n",
        "\n",
        "# Plot heatmap\n",
        "plt.figure(figsize=(10, 8))\n",
        "sns.heatmap(conf_matrix, annot=True, fmt='d', cmap='YlOrBr')\n",
        "\n",
        "# Add labels and title\n",
        "plt.xlabel('Predicted labels')\n",
        "plt.ylabel('Actual labels')\n",
        "plt.title('Confusion Matrix')\n",
        "\n",
        "# Display the heatmap\n",
        "plt.show()"
      ],
      "metadata": {
        "execution": {
          "iopub.status.busy": "2024-02-24T07:49:00.137147Z",
          "iopub.execute_input": "2024-02-24T07:49:00.1378Z",
          "iopub.status.idle": "2024-02-24T07:49:00.562469Z",
          "shell.execute_reply.started": "2024-02-24T07:49:00.137768Z",
          "shell.execute_reply": "2024-02-24T07:49:00.561536Z"
        },
        "trusted": true,
        "id": "Xs5TtjElV-Hc"
      },
      "execution_count": null,
      "outputs": []
    },
    {
      "cell_type": "code",
      "source": [
        "category={0:'0coat',\n",
        " 1:'1shirt',\n",
        " 2:'Daily women',\n",
        " 3:'Informal shirts',\n",
        " 4:'Kurta',\n",
        " 5:'Tshirt'}"
      ],
      "metadata": {
        "execution": {
          "iopub.status.busy": "2024-02-24T07:54:46.81866Z",
          "iopub.execute_input": "2024-02-24T07:54:46.819481Z",
          "iopub.status.idle": "2024-02-24T07:54:46.823636Z",
          "shell.execute_reply.started": "2024-02-24T07:54:46.819451Z",
          "shell.execute_reply": "2024-02-24T07:54:46.822738Z"
        },
        "trusted": true,
        "id": "VPLfGx7gV-Hc"
      },
      "execution_count": null,
      "outputs": []
    },
    {
      "cell_type": "code",
      "source": [
        "def predict_image(filename,model):\n",
        "    img_ = image.load_img(filename, target_size=IMAGE_SIZE)\n",
        "    img_array = image.img_to_array(img_)\n",
        "    img_processed = np.expand_dims(img_array, axis=0)\n",
        "    img_processed /= 255.\n",
        "\n",
        "    prediction = model.predict(img_processed)\n",
        "    index = np.argmax(prediction)\n",
        "\n",
        "    plt.title(\"Prediction - {}\".format(category[index]))\n",
        "    plt.imshow(img_array)"
      ],
      "metadata": {
        "execution": {
          "iopub.status.busy": "2024-02-24T07:52:00.458191Z",
          "iopub.execute_input": "2024-02-24T07:52:00.459115Z",
          "iopub.status.idle": "2024-02-24T07:52:00.465407Z",
          "shell.execute_reply.started": "2024-02-24T07:52:00.459083Z",
          "shell.execute_reply": "2024-02-24T07:52:00.464481Z"
        },
        "trusted": true,
        "id": "cOZpR6oaV-He"
      },
      "execution_count": null,
      "outputs": []
    },
    {
      "cell_type": "code",
      "source": [
        "predict_image('/kaggle/input/cloth-class-data/data_cloth/test/Informal shirts/5372.jpg',model)"
      ],
      "metadata": {
        "execution": {
          "iopub.status.busy": "2024-02-24T07:56:45.254979Z",
          "iopub.execute_input": "2024-02-24T07:56:45.255741Z",
          "iopub.status.idle": "2024-02-24T07:56:45.621415Z",
          "shell.execute_reply.started": "2024-02-24T07:56:45.255709Z",
          "shell.execute_reply": "2024-02-24T07:56:45.620518Z"
        },
        "trusted": true,
        "id": "e4FgggIrV-Hg"
      },
      "execution_count": null,
      "outputs": []
    },
    {
      "cell_type": "code",
      "source": [
        "model.save(\"Clothing_91.h5\")"
      ],
      "metadata": {
        "execution": {
          "iopub.status.busy": "2024-02-24T07:57:11.249325Z",
          "iopub.execute_input": "2024-02-24T07:57:11.250116Z",
          "iopub.status.idle": "2024-02-24T07:57:12.95947Z",
          "shell.execute_reply.started": "2024-02-24T07:57:11.250075Z",
          "shell.execute_reply": "2024-02-24T07:57:12.958677Z"
        },
        "trusted": true,
        "id": "z8PAVOTDV-Hg"
      },
      "execution_count": null,
      "outputs": []
    }
  ]
}