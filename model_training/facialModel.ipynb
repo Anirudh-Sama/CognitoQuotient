{
  "metadata": {
    "kernelspec": {
      "language": "python",
      "display_name": "Python 3",
      "name": "python3"
    },
    "language_info": {
      "name": "python",
      "version": "3.10.13",
      "mimetype": "text/x-python",
      "codemirror_mode": {
        "name": "ipython",
        "version": 3
      },
      "pygments_lexer": "ipython3",
      "nbconvert_exporter": "python",
      "file_extension": ".py"
    },
    "kaggle": {
      "accelerator": "gpu",
      "dataSources": [
        {
          "sourceId": 7637139,
          "sourceType": "datasetVersion",
          "datasetId": 4450640
        }
      ],
      "dockerImageVersionId": 30648,
      "isInternetEnabled": true,
      "language": "python",
      "sourceType": "notebook",
      "isGpuEnabled": true
    },
    "colab": {
      "name": "facialModel",
      "provenance": [],
      "include_colab_link": true
    }
  },
  "nbformat_minor": 0,
  "nbformat": 4,
  "cells": [
    {
      "cell_type": "markdown",
      "metadata": {
        "id": "view-in-github",
        "colab_type": "text"
      },
      "source": [
        "<a href=\"https://colab.research.google.com/github/ShlokArora2709/CogitoQuotient/blob/main/model_training/facialModel.ipynb\" target=\"_parent\"><img src=\"https://colab.research.google.com/assets/colab-badge.svg\" alt=\"Open In Colab\"/></a>"
      ]
    },
    {
      "source": [
        "\n",
        "# IMPORTANT: RUN THIS CELL IN ORDER TO IMPORT YOUR KAGGLE DATA SOURCES\n",
        "# TO THE CORRECT LOCATION (/kaggle/input) IN YOUR NOTEBOOK,\n",
        "# THEN FEEL FREE TO DELETE THIS CELL.\n",
        "# NOTE: THIS NOTEBOOK ENVIRONMENT DIFFERS FROM KAGGLE'S PYTHON\n",
        "# ENVIRONMENT SO THERE MAY BE MISSING LIBRARIES USED BY YOUR\n",
        "# NOTEBOOK.\n",
        "\n",
        "import os\n",
        "import sys\n",
        "from tempfile import NamedTemporaryFile\n",
        "from urllib.request import urlopen\n",
        "from urllib.parse import unquote, urlparse\n",
        "from urllib.error import HTTPError\n",
        "from zipfile import ZipFile\n",
        "import tarfile\n",
        "import shutil\n",
        "\n",
        "CHUNK_SIZE = 40960\n",
        "DATA_SOURCE_MAPPING = 'facial-recog:https%3A%2F%2Fstorage.googleapis.com%2Fkaggle-data-sets%2F4450640%2F7637139%2Fbundle%2Farchive.zip%3FX-Goog-Algorithm%3DGOOG4-RSA-SHA256%26X-Goog-Credential%3Dgcp-kaggle-com%2540kaggle-161607.iam.gserviceaccount.com%252F20240228%252Fauto%252Fstorage%252Fgoog4_request%26X-Goog-Date%3D20240228T060828Z%26X-Goog-Expires%3D259200%26X-Goog-SignedHeaders%3Dhost%26X-Goog-Signature%3D4697ed20a5be6c74de6befeae30650f36c09babfde02ff0cad6e209cf83339693756b675f599db53c678ce84e01cb24c543069314c907caf498122eb94c607405e922c343cf8d2c6be914dc83620fa1d1c260bf6779899dbb0350c23bc0b43c7b8e2c8a104ddc38f973fff8f634d55ea5b7fa7e1a42b5ae195cb053bce2697aee19aeb414e802d1a1f390359e006e40456fde777e0280c5988116329baf3aa3fae3eb0c82782e9a6afd0c028ee743e8541cebd45afc3a6fb3d4dde3d0555f8059c99c6e92ecfc4f12fcd490a3d0137f517a6ec49e2e578bcd21758317026e3dea30598e0da6b404bde2653d30c837b76a063e1c1f2d3f5c2f5f1096550ec5c9e'\n",
        "\n",
        "KAGGLE_INPUT_PATH='/kaggle/input'\n",
        "KAGGLE_WORKING_PATH='/kaggle/working'\n",
        "KAGGLE_SYMLINK='kaggle'\n",
        "\n",
        "!umount /kaggle/input/ 2> /dev/null\n",
        "shutil.rmtree('/kaggle/input', ignore_errors=True)\n",
        "os.makedirs(KAGGLE_INPUT_PATH, 0o777, exist_ok=True)\n",
        "os.makedirs(KAGGLE_WORKING_PATH, 0o777, exist_ok=True)\n",
        "\n",
        "try:\n",
        "  os.symlink(KAGGLE_INPUT_PATH, os.path.join(\"..\", 'input'), target_is_directory=True)\n",
        "except FileExistsError:\n",
        "  pass\n",
        "try:\n",
        "  os.symlink(KAGGLE_WORKING_PATH, os.path.join(\"..\", 'working'), target_is_directory=True)\n",
        "except FileExistsError:\n",
        "  pass\n",
        "\n",
        "for data_source_mapping in DATA_SOURCE_MAPPING.split(','):\n",
        "    directory, download_url_encoded = data_source_mapping.split(':')\n",
        "    download_url = unquote(download_url_encoded)\n",
        "    filename = urlparse(download_url).path\n",
        "    destination_path = os.path.join(KAGGLE_INPUT_PATH, directory)\n",
        "    try:\n",
        "        with urlopen(download_url) as fileres, NamedTemporaryFile() as tfile:\n",
        "            total_length = fileres.headers['content-length']\n",
        "            print(f'Downloading {directory}, {total_length} bytes compressed')\n",
        "            dl = 0\n",
        "            data = fileres.read(CHUNK_SIZE)\n",
        "            while len(data) > 0:\n",
        "                dl += len(data)\n",
        "                tfile.write(data)\n",
        "                done = int(50 * dl / int(total_length))\n",
        "                sys.stdout.write(f\"\\r[{'=' * done}{' ' * (50-done)}] {dl} bytes downloaded\")\n",
        "                sys.stdout.flush()\n",
        "                data = fileres.read(CHUNK_SIZE)\n",
        "            if filename.endswith('.zip'):\n",
        "              with ZipFile(tfile) as zfile:\n",
        "                zfile.extractall(destination_path)\n",
        "            else:\n",
        "              with tarfile.open(tfile.name) as tarfile:\n",
        "                tarfile.extractall(destination_path)\n",
        "            print(f'\\nDownloaded and uncompressed: {directory}')\n",
        "    except HTTPError as e:\n",
        "        print(f'Failed to load (likely expired) {download_url} to path {destination_path}')\n",
        "        continue\n",
        "    except OSError as e:\n",
        "        print(f'Failed to load {download_url} to path {destination_path}')\n",
        "        continue\n",
        "\n",
        "print('Data source import complete.')\n"
      ],
      "metadata": {
        "id": "LwgRFibWU8Lp"
      },
      "cell_type": "code",
      "outputs": [],
      "execution_count": null
    },
    {
      "cell_type": "code",
      "source": [
        "import numpy as np\n",
        "from keras.applications import VGG16,InceptionResNetV2\n",
        "from keras.models import Model\n",
        "from keras.layers import LSTM, Dense, Dropout, Flatten\n",
        "from sklearn.ensemble import RandomForestClassifier\n",
        "from sklearn.metrics import accuracy_score\n",
        "from sklearn.model_selection import train_test_split\n",
        "from xgboost import XGBClassifier\n",
        "from lightgbm import LGBMClassifier\n",
        "import matplotlib.pyplot as plt\n",
        "\n",
        "import os, random, pathlib, warnings, itertools, math\n",
        "warnings.filterwarnings(\"ignore\")\n",
        "\n",
        "import tensorflow as tf\n",
        "from tensorflow import keras\n",
        "import tensorflow.keras.backend as K\n",
        "\n",
        "from keras import regularizers\n",
        "from tensorflow.keras import models,Sequential,layers\n",
        "from tensorflow.keras.models import Model\n",
        "from tensorflow.keras.models import load_model\n",
        "from tensorflow.keras.preprocessing import image\n",
        "from tensorflow.keras.applications import ResNet50\n",
        "from tensorflow.keras.applications.inception_v3 import InceptionV3,preprocess_input\n",
        "from tensorflow.keras.layers import Dense, Flatten, GlobalAveragePooling2D, Dense, Dropout,LeakyReLU\n",
        "from tensorflow.keras.optimizers import Adam\n",
        "from keras.applications.vgg16 import VGG16\n",
        "import cv2"
      ],
      "metadata": {
        "_uuid": "8f2839f25d086af736a60e9eeb907d3b93b6e0e5",
        "_cell_guid": "b1076dfc-b9ad-4769-8c92-a6c4dae69d19",
        "execution": {
          "iopub.status.busy": "2024-02-16T13:26:10.666025Z",
          "iopub.execute_input": "2024-02-16T13:26:10.666386Z",
          "iopub.status.idle": "2024-02-16T13:26:27.869753Z",
          "shell.execute_reply.started": "2024-02-16T13:26:10.66635Z",
          "shell.execute_reply": "2024-02-16T13:26:27.868962Z"
        },
        "trusted": true,
        "id": "UWfBB3ZAU8Ls"
      },
      "execution_count": null,
      "outputs": []
    },
    {
      "cell_type": "code",
      "source": [
        "IMAGE_SIZE=[256,256]\n",
        "train_datagen = image.ImageDataGenerator(rescale=1./255,\n",
        "    shear_range=0.2,\n",
        "    zoom_range=0.2,\n",
        "    horizontal_flip=True,\n",
        "    rotation_range=40,\n",
        "    brightness_range=[0.8, 1.2],\n",
        "    fill_mode='nearest')\n",
        "\n",
        "test_datagen = image.ImageDataGenerator(rescale = 1./255)\n",
        "\n",
        "training_set = train_datagen.flow_from_directory(\n",
        "    '/kaggle/input/facial-recog/Facial/train',\n",
        "    target_size = IMAGE_SIZE,\n",
        "    batch_size = 64,\n",
        "    class_mode = 'categorical')\n",
        "\n",
        "test_set = test_datagen.flow_from_directory(\n",
        "    '/kaggle/input/facial-recog/Facial/test',\n",
        "    target_size = IMAGE_SIZE,\n",
        "    batch_size = 64,\n",
        "    class_mode = 'categorical')\n"
      ],
      "metadata": {
        "execution": {
          "iopub.status.busy": "2024-02-16T13:27:09.364776Z",
          "iopub.execute_input": "2024-02-16T13:27:09.365135Z",
          "iopub.status.idle": "2024-02-16T13:27:10.033162Z",
          "shell.execute_reply.started": "2024-02-16T13:27:09.36511Z",
          "shell.execute_reply": "2024-02-16T13:27:10.032263Z"
        },
        "trusted": true,
        "id": "RX28c-rcU8Ls"
      },
      "execution_count": null,
      "outputs": []
    },
    {
      "cell_type": "code",
      "source": [
        "test_set.class_indices"
      ],
      "metadata": {
        "execution": {
          "iopub.status.busy": "2024-02-16T13:27:15.899782Z",
          "iopub.execute_input": "2024-02-16T13:27:15.900641Z",
          "iopub.status.idle": "2024-02-16T13:27:15.907297Z",
          "shell.execute_reply.started": "2024-02-16T13:27:15.900607Z",
          "shell.execute_reply": "2024-02-16T13:27:15.906299Z"
        },
        "trusted": true,
        "id": "XX7PnlrUU8Lt"
      },
      "execution_count": null,
      "outputs": []
    },
    {
      "cell_type": "code",
      "source": [
        "training_set.class_indices"
      ],
      "metadata": {
        "execution": {
          "iopub.status.busy": "2024-02-16T13:27:21.265939Z",
          "iopub.execute_input": "2024-02-16T13:27:21.266779Z",
          "iopub.status.idle": "2024-02-16T13:27:21.27269Z",
          "shell.execute_reply.started": "2024-02-16T13:27:21.266744Z",
          "shell.execute_reply": "2024-02-16T13:27:21.27168Z"
        },
        "trusted": true,
        "id": "MN4M9OZRU8Lu"
      },
      "execution_count": null,
      "outputs": []
    },
    {
      "cell_type": "code",
      "source": [
        "base= InceptionResNetV2(weights='imagenet', include_top=False)\n",
        "\n",
        "for layer in base.layers:\n",
        "    layer.trainable = True\n",
        "    if isinstance(layer, tf.keras.layers.Conv2D):\n",
        "        layer.kernel_regularizer = kernel_regularizer=regularizers.L2(0.005)\n",
        "\n",
        "# Find the index of the layer where 'mixed9' is present\n",
        "block8_1_mixed = base.layers.index(next(layer for layer in base.layers if layer.name == 'block8_1_mixed'))\n",
        "\n",
        "# Set trainable to False for layers before 'mixed9'\n",
        "for layer in base.layers[:block8_1_mixed]:\n",
        "    layer.trainable = False\n",
        "\n",
        "for layer in base.layers:\n",
        "    print(layer.name, layer.trainable)"
      ],
      "metadata": {
        "execution": {
          "iopub.status.busy": "2024-02-16T13:27:27.980943Z",
          "iopub.execute_input": "2024-02-16T13:27:27.98133Z",
          "iopub.status.idle": "2024-02-16T13:27:43.891723Z",
          "shell.execute_reply.started": "2024-02-16T13:27:27.981302Z",
          "shell.execute_reply": "2024-02-16T13:27:43.890777Z"
        },
        "trusted": true,
        "id": "hfviyQpMU8Lu"
      },
      "execution_count": null,
      "outputs": []
    },
    {
      "cell_type": "code",
      "source": [
        "model = Sequential()\n",
        "model.add(base)\n",
        "model.add(GlobalAveragePooling2D())\n",
        "model.add(Dropout(0.5))\n",
        "model.add(Dense(1024,activation='relu'))\n",
        "model.add(Dropout(0.5))\n",
        "model.add(Dense(256,activation='relu'))\n",
        "model.add(Dropout(0.5))\n",
        "model.add(Dense(4,activation='softmax'))\n",
        "\n",
        "model.compile(\n",
        "  loss='categorical_crossentropy',\n",
        "  optimizer='adam',\n",
        "  metrics=['accuracy']\n",
        ")\n",
        "model.summary()"
      ],
      "metadata": {
        "execution": {
          "iopub.status.busy": "2024-02-16T13:28:20.216509Z",
          "iopub.execute_input": "2024-02-16T13:28:20.217155Z",
          "iopub.status.idle": "2024-02-16T13:28:22.531887Z",
          "shell.execute_reply.started": "2024-02-16T13:28:20.217123Z",
          "shell.execute_reply": "2024-02-16T13:28:22.531031Z"
        },
        "trusted": true,
        "id": "nhvyqfBEU8Lu"
      },
      "execution_count": null,
      "outputs": []
    },
    {
      "cell_type": "code",
      "source": [
        "his = model.fit_generator(\n",
        "  training_set,\n",
        "  validation_data=test_set,\n",
        "  epochs=7)"
      ],
      "metadata": {
        "execution": {
          "iopub.status.busy": "2024-02-16T13:28:32.165507Z",
          "iopub.execute_input": "2024-02-16T13:28:32.166387Z",
          "iopub.status.idle": "2024-02-16T13:38:23.570216Z",
          "shell.execute_reply.started": "2024-02-16T13:28:32.166355Z",
          "shell.execute_reply": "2024-02-16T13:38:23.569383Z"
        },
        "trusted": true,
        "id": "_cW4K2aZU8Lv"
      },
      "execution_count": null,
      "outputs": []
    },
    {
      "cell_type": "code",
      "source": [
        "model.save(\"Facial_91.3_V1.h5\")"
      ],
      "metadata": {
        "execution": {
          "iopub.status.busy": "2024-02-16T13:40:28.412114Z",
          "iopub.execute_input": "2024-02-16T13:40:28.412837Z",
          "iopub.status.idle": "2024-02-16T13:40:30.111119Z",
          "shell.execute_reply.started": "2024-02-16T13:40:28.412808Z",
          "shell.execute_reply": "2024-02-16T13:40:30.110304Z"
        },
        "trusted": true,
        "id": "OtcyG0SWU8Lv"
      },
      "execution_count": null,
      "outputs": []
    }
  ]
}